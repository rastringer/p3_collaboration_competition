{
 "cells": [
  {
   "cell_type": "markdown",
   "metadata": {},
   "source": [
    "# Collaboration and Competition\n",
    "\n",
    "---\n",
    "\n",
    "In this notebook, you will learn how to use the Unity ML-Agents environment for the third project of the [Deep Reinforcement Learning Nanodegree](https://www.udacity.com/course/deep-reinforcement-learning-nanodegree--nd893) program.\n",
    "\n",
    "### 1. Start the Environment\n",
    "\n",
    "We begin by importing the necessary packages.  If the code cell below returns an error, please revisit the project instructions to double-check that you have installed [Unity ML-Agents](https://github.com/Unity-Technologies/ml-agents/blob/master/docs/Installation.md) and [NumPy](http://www.numpy.org/)."
   ]
  },
  {
   "cell_type": "code",
   "execution_count": 1,
   "metadata": {},
   "outputs": [],
   "source": [
    "from unityagents import UnityEnvironment\n",
    "import numpy as np\n",
    "import torch\n",
    "import random\n",
    "from collections import deque\n",
    "from ddpg_agent import Agent\n",
    "import matplotlib.pyplot as plt\n",
    "%matplotlib inline"
   ]
  },
  {
   "cell_type": "code",
   "execution_count": 2,
   "metadata": {},
   "outputs": [
    {
     "data": {
      "text/plain": [
       "'GeForce GTX 1060'"
      ]
     },
     "execution_count": 2,
     "metadata": {},
     "output_type": "execute_result"
    }
   ],
   "source": [
    "check_GPU = torch.device(\"cuda:0\" if torch.cuda.is_available() else \"cpu\")\n",
    "check_GPU\n",
    "torch.cuda.get_device_name(0)"
   ]
  },
  {
   "cell_type": "markdown",
   "metadata": {},
   "source": [
    "Next, we will start the environment!  **_Before running the code cell below_**, change the `file_name` parameter to match the location of the Unity environment that you downloaded.\n",
    "\n",
    "- **Mac**: `\"path/to/Tennis.app\"`\n",
    "- **Windows** (x86): `\"path/to/Tennis_Windows_x86/Tennis.exe\"`\n",
    "- **Windows** (x86_64): `\"path/to/Tennis_Windows_x86_64/Tennis.exe\"`\n",
    "- **Linux** (x86): `\"path/to/Tennis_Linux/Tennis.x86\"`\n",
    "- **Linux** (x86_64): `\"path/to/Tennis_Linux/Tennis.x86_64\"`\n",
    "- **Linux** (x86, headless): `\"path/to/Tennis_Linux_NoVis/Tennis.x86\"`\n",
    "- **Linux** (x86_64, headless): `\"path/to/Tennis_Linux_NoVis/Tennis.x86_64\"`\n",
    "\n",
    "For instance, if you are using a Mac, then you downloaded `Tennis.app`.  If this file is in the same folder as the notebook, then the line below should appear as follows:\n",
    "```\n",
    "env = UnityEnvironment(file_name=\"Tennis.app\")\n",
    "```"
   ]
  },
  {
   "cell_type": "code",
   "execution_count": 3,
   "metadata": {},
   "outputs": [
    {
     "name": "stderr",
     "output_type": "stream",
     "text": [
      "INFO:unityagents:\n",
      "'Academy' started successfully!\n",
      "Unity Academy name: Academy\n",
      "        Number of Brains: 1\n",
      "        Number of External Brains : 1\n",
      "        Lesson number : 0\n",
      "        Reset Parameters :\n",
      "\t\t\n",
      "Unity brain name: TennisBrain\n",
      "        Number of Visual Observations (per agent): 0\n",
      "        Vector Observation space type: continuous\n",
      "        Vector Observation space size (per agent): 8\n",
      "        Number of stacked Vector Observation: 3\n",
      "        Vector Action space type: continuous\n",
      "        Vector Action space size (per agent): 2\n",
      "        Vector Action descriptions: , \n"
     ]
    }
   ],
   "source": [
    "env = UnityEnvironment(file_name=\"./Tennis_Windows_x86_64/Tennis.exe\")"
   ]
  },
  {
   "cell_type": "markdown",
   "metadata": {},
   "source": [
    "Environments contain **_brains_** which are responsible for deciding the actions of their associated agents. Here we check for the first brain available, and set it as the default brain we will be controlling from Python."
   ]
  },
  {
   "cell_type": "code",
   "execution_count": 4,
   "metadata": {},
   "outputs": [],
   "source": [
    "# get the default brain\n",
    "brain_name = env.brain_names[0]\n",
    "brain = env.brains[brain_name]"
   ]
  },
  {
   "cell_type": "markdown",
   "metadata": {},
   "source": [
    "### 2. Examine the State and Action Spaces\n",
    "\n",
    "In this environment, two agents control rackets to bounce a ball over a net. If an agent hits the ball over the net, it receives a reward of +0.1.  If an agent lets a ball hit the ground or hits the ball out of bounds, it receives a reward of -0.01.  Thus, the goal of each agent is to keep the ball in play.\n",
    "\n",
    "The observation space consists of 8 variables corresponding to the position and velocity of the ball and racket. Two continuous actions are available, corresponding to movement toward (or away from) the net, and jumping. \n",
    "\n",
    "Run the code cell below to print some information about the environment."
   ]
  },
  {
   "cell_type": "code",
   "execution_count": 5,
   "metadata": {},
   "outputs": [
    {
     "name": "stdout",
     "output_type": "stream",
     "text": [
      "Number of agents: 2\n",
      "Size of each action: 2\n",
      "There are 2 agents. Each observes a state with length: 24\n",
      "The state for the first agent looks like: [ 0.          0.          0.          0.          0.          0.\n",
      "  0.          0.          0.          0.          0.          0.\n",
      "  0.          0.          0.          0.         -6.65278625 -1.5\n",
      " -0.          0.          6.83172083  6.         -0.          0.        ]\n"
     ]
    }
   ],
   "source": [
    "# reset the environment\n",
    "env_info = env.reset(train_mode=True)[brain_name]\n",
    "\n",
    "# number of agents \n",
    "num_agents = len(env_info.agents)\n",
    "print('Number of agents:', num_agents)\n",
    "\n",
    "# size of each action\n",
    "action_size = brain.vector_action_space_size\n",
    "print('Size of each action:', action_size)\n",
    "\n",
    "# examine the state space \n",
    "states = env_info.vector_observations\n",
    "state_size = states.shape[1]\n",
    "print('There are {} agents. Each observes a state with length: {}'.format(states.shape[0], state_size))\n",
    "print('The state for the first agent looks like:', states[0])"
   ]
  },
  {
   "cell_type": "markdown",
   "metadata": {},
   "source": [
    "### 4. Training"
   ]
  },
  {
   "cell_type": "code",
   "execution_count": 6,
   "metadata": {},
   "outputs": [],
   "source": [
    "agent = Agent(state_size, action_size, num_agents=num_agents, random_seed=0)\n",
    "\n",
    "\n",
    "def ddpg(n_episodes=10000, max_t=1000, print_every=100, train=True):\n",
    "    scores_window = deque(maxlen=100)\n",
    "    scores = []\n",
    "    \n",
    "    for i_episode in range(1, n_episodes+1):\n",
    "        env_info = env.reset(train_mode=True)[brain_name]   \n",
    "        num_agents = len(env_info.agents)\n",
    "        states = env_info.vector_observations\n",
    "        scores_t = np.zeros(num_agents)\n",
    "        agent.reset()\n",
    "        \n",
    "        for t in range(max_t):            \n",
    "            #actions = agent.act(states if train else np.zeros(states.size()))\n",
    "            actions = agent.act(states, i_episode)\n",
    "            env_info = env.step(actions)[brain_name]            \n",
    "            next_states = env_info.vector_observations\n",
    "            rewards = env_info.rewards\n",
    "            dones = env_info.local_done\n",
    "            \n",
    "            if train:\n",
    "                agent.step(states, actions, rewards, next_states, dones, t)\n",
    "                states = next_states\n",
    "                scores_t += np.array(rewards)\n",
    "            if np.any(dones):\n",
    "                break\n",
    "        \n",
    "        score = np.mean(scores_t)   \n",
    "        scores_window.append(score)\n",
    "        avg_score = np.mean(scores_window)\n",
    "        scores.append(score)\n",
    "     \n",
    "\n",
    "        print('\\rEpisode {}\\tAverage Score: {:.2f}\\tMean current: {:.2f}'.format(i_episode, avg_score, score), end=\"\")\n",
    "        torch.save(agent.actor_local.state_dict(), 'checkpoint_actor.pth')\n",
    "        torch.save(agent.critic_local.state_dict(), 'checkpoint_critic.pth')\n",
    "        if i_episode % 5 == 0:\n",
    "            print('\\rEpisode {}\\tAverage Score: {:.2f}'.format(i_episode, avg_score))\n",
    "        if avg_score >= 0.8:\n",
    "            print('\\nEnvironment solved in {:d} episodes!\\tAverage Score: {:.2f}'.format(i_episode, avg_score))\n",
    "            torch.save(agent.actor_local.state_dict(), 'checkpoint_actor.pth')\n",
    "            torch.save(agent.critic_local.state_dict(), 'checkpoint_critic.pth')\n",
    "            break\n",
    "    return scores"
   ]
  },
  {
   "cell_type": "code",
   "execution_count": 8,
   "metadata": {},
   "outputs": [
    {
     "name": "stdout",
     "output_type": "stream",
     "text": [
      "Episode 5\tAverage Score: 0.01\tMean current: -0.000\n",
      "Episode 10\tAverage Score: 0.00\tMean current: -0.00\n",
      "Episode 15\tAverage Score: -0.00\tMean current: -0.00\n",
      "Episode 20\tAverage Score: 0.00\tMean current: -0.000\n",
      "Episode 25\tAverage Score: -0.00\tMean current: -0.00\n",
      "Episode 30\tAverage Score: -0.00\tMean current: -0.00\n",
      "Episode 35\tAverage Score: -0.00\tMean current: -0.00\n",
      "Episode 40\tAverage Score: -0.00\tMean current: 0.050\n",
      "Episode 45\tAverage Score: -0.00\tMean current: -0.00\n",
      "Episode 50\tAverage Score: -0.00\tMean current: -0.00\n",
      "Episode 55\tAverage Score: -0.00\tMean current: -0.00\n",
      "Episode 60\tAverage Score: -0.00\tMean current: -0.00\n",
      "Episode 65\tAverage Score: -0.00\tMean current: -0.00\n",
      "Episode 70\tAverage Score: -0.00\tMean current: -0.00\n",
      "Episode 75\tAverage Score: -0.00\tMean current: -0.00\n",
      "Episode 80\tAverage Score: -0.00\tMean current: -0.00\n",
      "Episode 85\tAverage Score: -0.00\tMean current: -0.00\n",
      "Episode 90\tAverage Score: -0.00\tMean current: -0.00\n",
      "Episode 95\tAverage Score: -0.00\tMean current: -0.00\n",
      "Episode 100\tAverage Score: -0.00\tMean current: -0.00\n",
      "Episode 105\tAverage Score: -0.00\tMean current: -0.00\n",
      "Episode 110\tAverage Score: -0.00\tMean current: -0.00\n",
      "Episode 115\tAverage Score: -0.00\tMean current: -0.00\n",
      "Episode 120\tAverage Score: -0.00\tMean current: 0.050\n",
      "Episode 125\tAverage Score: -0.00\tMean current: -0.00\n",
      "Episode 130\tAverage Score: -0.00\tMean current: -0.00\n",
      "Episode 135\tAverage Score: -0.00\tMean current: -0.00\n",
      "Episode 140\tAverage Score: -0.00\tMean current: -0.00\n",
      "Episode 145\tAverage Score: 0.00\tMean current: 0.0500\n",
      "Episode 150\tAverage Score: 0.00\tMean current: -0.00\n",
      "Episode 155\tAverage Score: 0.00\tMean current: -0.00\n",
      "Episode 160\tAverage Score: 0.00\tMean current: -0.00\n",
      "Episode 165\tAverage Score: 0.00\tMean current: -0.00\n",
      "Episode 170\tAverage Score: 0.00\tMean current: -0.00\n",
      "Episode 175\tAverage Score: 0.00\tMean current: -0.00\n",
      "Episode 180\tAverage Score: 0.00\tMean current: -0.00\n",
      "Episode 185\tAverage Score: 0.00\tMean current: -0.00\n",
      "Episode 190\tAverage Score: 0.00\tMean current: -0.00\n",
      "Episode 195\tAverage Score: 0.00\tMean current: -0.00\n",
      "Episode 200\tAverage Score: 0.00\tMean current: -0.00\n",
      "Episode 205\tAverage Score: 0.00\tMean current: -0.00\n",
      "Episode 210\tAverage Score: 0.00\tMean current: -0.00\n",
      "Episode 215\tAverage Score: 0.00\tMean current: -0.00\n",
      "Episode 220\tAverage Score: -0.00\tMean current: -0.00\n",
      "Episode 225\tAverage Score: -0.00\tMean current: -0.00\n",
      "Episode 230\tAverage Score: -0.00\tMean current: -0.00\n",
      "Episode 235\tAverage Score: -0.00\tMean current: -0.00\n",
      "Episode 240\tAverage Score: -0.00\tMean current: -0.00\n",
      "Episode 245\tAverage Score: -0.00\tMean current: -0.00\n",
      "Episode 250\tAverage Score: -0.00\tMean current: -0.00\n",
      "Episode 255\tAverage Score: -0.00\tMean current: 0.050\n",
      "Episode 260\tAverage Score: -0.00\tMean current: -0.00\n",
      "Episode 265\tAverage Score: -0.00\tMean current: -0.00\n",
      "Episode 270\tAverage Score: -0.00\tMean current: -0.00\n",
      "Episode 275\tAverage Score: -0.00\tMean current: -0.00\n",
      "Episode 280\tAverage Score: -0.00\tMean current: 0.150\n",
      "Episode 285\tAverage Score: -0.00\tMean current: -0.00\n",
      "Episode 290\tAverage Score: -0.00\tMean current: 0.100\n",
      "Episode 295\tAverage Score: -0.00\tMean current: -0.00\n",
      "Episode 300\tAverage Score: -0.00\tMean current: -0.00\n",
      "Episode 305\tAverage Score: -0.00\tMean current: -0.00\n",
      "Episode 310\tAverage Score: -0.00\tMean current: -0.00\n",
      "Episode 315\tAverage Score: -0.00\tMean current: -0.00\n",
      "Episode 320\tAverage Score: 0.00\tMean current: 0.0500\n",
      "Episode 325\tAverage Score: 0.00\tMean current: 0.050\n",
      "Episode 330\tAverage Score: 0.00\tMean current: -0.00\n",
      "Episode 335\tAverage Score: 0.00\tMean current: -0.00\n",
      "Episode 340\tAverage Score: 0.00\tMean current: -0.00\n",
      "Episode 345\tAverage Score: 0.00\tMean current: 0.050\n",
      "Episode 350\tAverage Score: 0.00\tMean current: -0.00\n",
      "Episode 355\tAverage Score: 0.00\tMean current: -0.00\n",
      "Episode 360\tAverage Score: 0.01\tMean current: 0.050\n",
      "Episode 365\tAverage Score: 0.01\tMean current: -0.00\n",
      "Episode 370\tAverage Score: 0.01\tMean current: 0.050\n",
      "Episode 375\tAverage Score: 0.01\tMean current: -0.00\n",
      "Episode 380\tAverage Score: 0.01\tMean current: -0.00\n",
      "Episode 385\tAverage Score: 0.01\tMean current: 0.050\n",
      "Episode 390\tAverage Score: 0.01\tMean current: -0.00\n",
      "Episode 395\tAverage Score: 0.01\tMean current: -0.00\n",
      "Episode 400\tAverage Score: 0.01\tMean current: -0.00\n",
      "Episode 405\tAverage Score: 0.01\tMean current: 0.050\n",
      "Episode 410\tAverage Score: 0.01\tMean current: -0.00\n",
      "Episode 415\tAverage Score: 0.01\tMean current: 0.050\n",
      "Episode 420\tAverage Score: 0.01\tMean current: -0.00\n",
      "Episode 425\tAverage Score: 0.01\tMean current: 0.050\n",
      "Episode 430\tAverage Score: 0.01\tMean current: -0.00\n",
      "Episode 435\tAverage Score: 0.01\tMean current: 0.050\n",
      "Episode 440\tAverage Score: 0.01\tMean current: -0.00\n",
      "Episode 445\tAverage Score: 0.01\tMean current: -0.00\n",
      "Episode 450\tAverage Score: 0.01\tMean current: -0.00\n",
      "Episode 455\tAverage Score: 0.01\tMean current: -0.00\n",
      "Episode 460\tAverage Score: 0.01\tMean current: 0.050\n",
      "Episode 465\tAverage Score: 0.01\tMean current: -0.00\n",
      "Episode 470\tAverage Score: 0.01\tMean current: -0.00\n",
      "Episode 475\tAverage Score: 0.02\tMean current: 0.050\n",
      "Episode 480\tAverage Score: 0.02\tMean current: 0.050\n",
      "Episode 485\tAverage Score: 0.02\tMean current: 0.050\n",
      "Episode 490\tAverage Score: 0.02\tMean current: 0.050\n",
      "Episode 495\tAverage Score: 0.02\tMean current: 0.050\n",
      "Episode 500\tAverage Score: 0.02\tMean current: 0.05\n",
      "Episode 505\tAverage Score: 0.02\tMean current: 0.05\n",
      "Episode 510\tAverage Score: 0.02\tMean current: -0.00\n",
      "Episode 515\tAverage Score: 0.02\tMean current: 0.050\n",
      "Episode 520\tAverage Score: 0.03\tMean current: 0.100\n",
      "Episode 525\tAverage Score: 0.03\tMean current: -0.00\n",
      "Episode 530\tAverage Score: 0.03\tMean current: 0.050\n",
      "Episode 535\tAverage Score: 0.03\tMean current: 0.050\n",
      "Episode 540\tAverage Score: 0.03\tMean current: -0.00\n",
      "Episode 545\tAverage Score: 0.03\tMean current: -0.00\n",
      "Episode 550\tAverage Score: 0.03\tMean current: -0.00\n",
      "Episode 555\tAverage Score: 0.03\tMean current: 0.050\n",
      "Episode 560\tAverage Score: 0.04\tMean current: 0.200\n",
      "Episode 565\tAverage Score: 0.04\tMean current: 0.050\n",
      "Episode 570\tAverage Score: 0.04\tMean current: 0.050\n",
      "Episode 575\tAverage Score: 0.04\tMean current: 0.050\n",
      "Episode 580\tAverage Score: 0.04\tMean current: -0.00\n",
      "Episode 585\tAverage Score: 0.04\tMean current: -0.00\n",
      "Episode 590\tAverage Score: 0.04\tMean current: 0.050\n",
      "Episode 595\tAverage Score: 0.04\tMean current: -0.00\n",
      "Episode 600\tAverage Score: 0.04\tMean current: 0.05\n",
      "Episode 605\tAverage Score: 0.04\tMean current: -0.00\n",
      "Episode 610\tAverage Score: 0.04\tMean current: -0.00\n",
      "Episode 615\tAverage Score: 0.04\tMean current: -0.00\n",
      "Episode 620\tAverage Score: 0.03\tMean current: -0.00\n",
      "Episode 625\tAverage Score: 0.03\tMean current: -0.00\n",
      "Episode 630\tAverage Score: 0.03\tMean current: -0.00\n",
      "Episode 635\tAverage Score: 0.03\tMean current: -0.00\n",
      "Episode 640\tAverage Score: 0.02\tMean current: -0.00\n",
      "Episode 645\tAverage Score: 0.03\tMean current: 0.050\n",
      "Episode 650\tAverage Score: 0.03\tMean current: 0.150\n",
      "Episode 655\tAverage Score: 0.03\tMean current: -0.00\n",
      "Episode 660\tAverage Score: 0.02\tMean current: -0.00\n",
      "Episode 665\tAverage Score: 0.02\tMean current: -0.00\n",
      "Episode 670\tAverage Score: 0.02\tMean current: -0.00\n",
      "Episode 675\tAverage Score: 0.02\tMean current: -0.00\n",
      "Episode 680\tAverage Score: 0.01\tMean current: -0.00\n",
      "Episode 685\tAverage Score: 0.01\tMean current: -0.00\n",
      "Episode 690\tAverage Score: 0.01\tMean current: -0.00\n",
      "Episode 695\tAverage Score: 0.01\tMean current: -0.00\n",
      "Episode 700\tAverage Score: 0.01\tMean current: -0.00\n",
      "Episode 705\tAverage Score: 0.01\tMean current: -0.00\n",
      "Episode 710\tAverage Score: 0.01\tMean current: -0.00\n",
      "Episode 715\tAverage Score: 0.00\tMean current: -0.00\n",
      "Episode 720\tAverage Score: 0.00\tMean current: -0.00\n",
      "Episode 725\tAverage Score: 0.00\tMean current: -0.00\n",
      "Episode 730\tAverage Score: 0.00\tMean current: -0.00\n",
      "Episode 735\tAverage Score: 0.01\tMean current: 0.050\n",
      "Episode 740\tAverage Score: 0.01\tMean current: -0.00\n",
      "Episode 745\tAverage Score: 0.00\tMean current: -0.00\n",
      "Episode 750\tAverage Score: 0.00\tMean current: -0.00\n",
      "Episode 755\tAverage Score: 0.00\tMean current: 0.050\n",
      "Episode 760\tAverage Score: -0.00\tMean current: -0.00\n",
      "Episode 765\tAverage Score: -0.00\tMean current: 0.050\n",
      "Episode 770\tAverage Score: 0.00\tMean current: 0.055\n",
      "Episode 775\tAverage Score: 0.01\tMean current: 0.05\n",
      "Episode 780\tAverage Score: 0.01\tMean current: 0.050\n",
      "Episode 785\tAverage Score: 0.02\tMean current: 0.05\n"
     ]
    },
    {
     "name": "stdout",
     "output_type": "stream",
     "text": [
      "Episode 790\tAverage Score: 0.02\tMean current: -0.00\n",
      "Episode 795\tAverage Score: 0.03\tMean current: 0.15\n",
      "Episode 800\tAverage Score: 0.03\tMean current: 0.10\n",
      "Episode 805\tAverage Score: 0.04\tMean current: 0.05\n",
      "Episode 810\tAverage Score: 0.05\tMean current: 0.05\n",
      "Episode 815\tAverage Score: 0.06\tMean current: 0.05\n",
      "Episode 820\tAverage Score: 0.06\tMean current: 0.05\n",
      "Episode 825\tAverage Score: 0.07\tMean current: 0.05\n",
      "Episode 830\tAverage Score: 0.08\tMean current: 0.10\n",
      "Episode 835\tAverage Score: 0.08\tMean current: 0.05\n",
      "Episode 840\tAverage Score: 0.08\tMean current: 0.05\n",
      "Episode 845\tAverage Score: 0.08\tMean current: 0.05\n",
      "Episode 850\tAverage Score: 0.09\tMean current: 0.10\n",
      "Episode 855\tAverage Score: 0.09\tMean current: 0.150\n",
      "Episode 860\tAverage Score: 0.10\tMean current: 0.15\n",
      "Episode 865\tAverage Score: 0.10\tMean current: 0.150\n",
      "Episode 870\tAverage Score: 0.10\tMean current: -0.00\n",
      "Episode 875\tAverage Score: 0.11\tMean current: 0.50\n",
      "Episode 880\tAverage Score: 0.12\tMean current: 0.45\n",
      "Episode 885\tAverage Score: 0.18\tMean current: 2.60\n",
      "Episode 890\tAverage Score: 0.24\tMean current: 0.35\n",
      "Episode 895\tAverage Score: 0.35\tMean current: 1.25\n",
      "Episode 900\tAverage Score: 0.45\tMean current: 2.60\n",
      "Episode 905\tAverage Score: 0.52\tMean current: -0.00\n",
      "Episode 910\tAverage Score: 0.58\tMean current: 2.15\n",
      "Episode 915\tAverage Score: 0.58\tMean current: 0.05\n",
      "Episode 920\tAverage Score: 0.58\tMean current: 0.05\n",
      "Episode 925\tAverage Score: 0.57\tMean current: 0.05\n",
      "Episode 930\tAverage Score: 0.57\tMean current: 0.05\n",
      "Episode 935\tAverage Score: 0.57\tMean current: 0.05\n",
      "Episode 940\tAverage Score: 0.61\tMean current: 0.05\n",
      "Episode 945\tAverage Score: 0.61\tMean current: 0.05\n",
      "Episode 950\tAverage Score: 0.61\tMean current: 0.05\n",
      "Episode 955\tAverage Score: 0.61\tMean current: 0.05\n",
      "Episode 960\tAverage Score: 0.60\tMean current: 0.050\n",
      "Episode 965\tAverage Score: 0.60\tMean current: 0.15\n",
      "Episode 970\tAverage Score: 0.65\tMean current: 2.60\n",
      "Episode 975\tAverage Score: 0.73\tMean current: 2.60\n",
      "Episode 979\tAverage Score: 0.82\tMean current: 2.60\n",
      "Environment solved in 979 episodes!\tAverage Score: 0.82\n"
     ]
    }
   ],
   "source": [
    "scores = ddpg()"
   ]
  },
  {
   "cell_type": "code",
   "execution_count": 9,
   "metadata": {},
   "outputs": [
    {
     "data": {
      "image/png": "[encoded data removed]",
      "text/plain": [
       "<Figure size 432x288 with 1 Axes>"
      ]
     },
     "metadata": {
      "needs_background": "light"
     },
     "output_type": "display_data"
    }
   ],
   "source": [
    "fig = plt.figure()\n",
    "ax = fig.add_subplot(111)\n",
    "plt.plot(np.arange(1, len(scores)+1), scores)\n",
    "plt.ylabel('Score')\n",
    "plt.xlabel('Episode #')\n",
    "plt.show()"
   ]
  },
  {
   "cell_type": "code",
   "execution_count": null,
   "metadata": {},
   "outputs": [],
   "source": [
    "agent.actor_local.load_state_dict(torch.load('checkpoint_actor.pth'))\n",
    "agent.critic_local.load_state_dict(torch.load('checkpoint_critic.pth'))\n",
    "\n",
    "env_info = env.reset(train_mode=False)[brain_name]     # reset the environment    \n",
    "states = env_info.vector_observations                  # get the current state (for each agent)\n",
    "scores = np.zeros(num_agents)                          # initialize the score (for each agent)n_\n",
    "n_episodes = 1000\n",
    "for i_episode in range(1, n_episodes+1):\n",
    "    actions = agent.act(states, i_episode)                        # select an action (for each agent)\n",
    "    env_info = env.step(actions)[brain_name]           # send all actions to tne environment\n",
    "    next_states = env_info.vector_observations         # get next state (for each agent)\n",
    "    rewards = env_info.rewards                         # get reward (for each agent)\n",
    "    dones = env_info.local_done                        # see if episode finished\n",
    "    scores += env_info.rewards                         # update the score (for each agent)\n",
    "    states = next_states                               # roll over states to next time step\n",
    "    if np.any(dones):                                  # exit loop if episode finished\n",
    "        break\n",
    "print('Total score (averaged over agents) this episode: {}'.format(np.mean(scores)))"
   ]
  },
  {
   "cell_type": "code",
   "execution_count": null,
   "metadata": {},
   "outputs": [],
   "source": [
    "env.close()"
   ]
  }
 ],
 "metadata": {
  "kernelspec": {
   "display_name": "Python 3",
   "language": "python",
   "name": "python3"
  },
  "language_info": {
   "codemirror_mode": {
    "name": "ipython",
    "version": 3
   },
   "file_extension": ".py",
   "mimetype": "text/x-python",
   "name": "python",
   "nbconvert_exporter": "python",
   "pygments_lexer": "ipython3",
   "version": "3.6.7"
  }
 },
 "nbformat": 4,
 "nbformat_minor": 2
}
